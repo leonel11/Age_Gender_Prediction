{
 "cells": [
  {
   "cell_type": "code",
   "execution_count": 1,
   "metadata": {
    "collapsed": true
   },
   "outputs": [],
   "source": [
    "import os\n",
    "import shutil\n",
    "import json\n",
    "from PIL import Image, ImageDraw"
   ]
  },
  {
   "cell_type": "code",
   "execution_count": 2,
   "metadata": {
    "collapsed": true
   },
   "outputs": [],
   "source": [
    "DATABASE_FOLDER = '../data/wider_attribute_image'\n",
    "ANNOTATION_FILE = '../data/wider_attribute_annotation/wider_attribute_trainval.json'\n",
    "IMAGES_FOLDER = os.path.join(DATABASE_FOLDER, 'Image')"
   ]
  },
  {
   "cell_type": "code",
   "execution_count": 3,
   "metadata": {
    "collapsed": true
   },
   "outputs": [],
   "source": [
    "VOC_DATA = '../data/VOC0712'\n",
    "VOC_ANNOTATIONS = os.path.join(VOC_DATA, 'Annotations')\n",
    "VOC_IMAGESETS = os.path.join(os.path.join(VOC_DATA, 'ImageSets'), 'Main')\n",
    "VOC_JPEGIMAGES = os.path.join(VOC_DATA, 'JPEGImages')"
   ]
  },
  {
   "cell_type": "code",
   "execution_count": 14,
   "metadata": {
    "collapsed": true
   },
   "outputs": [],
   "source": [
    "idx_number = 5932\n",
    "numb = idx_number"
   ]
  },
  {
   "cell_type": "code",
   "execution_count": 5,
   "metadata": {
    "collapsed": true
   },
   "outputs": [],
   "source": [
    "with open(ANNOTATION_FILE) as f:\n",
    "    data = json.load(f)"
   ]
  },
  {
   "cell_type": "code",
   "execution_count": 6,
   "metadata": {
    "collapsed": true
   },
   "outputs": [],
   "source": [
    "def get_gender(label):\n",
    "    if (label == 11):\n",
    "        return 'f'\n",
    "    if (label == 1):\n",
    "        return 'm'\n",
    "    if (label == 0):\n",
    "        return 'u'\n",
    "    return 'u'"
   ]
  },
  {
   "cell_type": "code",
   "execution_count": 7,
   "metadata": {
    "collapsed": true
   },
   "outputs": [],
   "source": [
    "voc_dict = dict()"
   ]
  },
  {
   "cell_type": "code",
   "execution_count": 8,
   "metadata": {
    "collapsed": true
   },
   "outputs": [],
   "source": [
    "# формирование базы данных\n",
    "for elem in data['images']: # каждый элемент - словарь\n",
    "    pict = elem['file_name']\n",
    "    for annotation in elem['targets']: # каждый элемент - словарь\n",
    "        gend = get_gender(annotation['attribute'][0])\n",
    "        bbox = list(map(int, annotation['bbox'])) \n",
    "        frame = [bbox[0]+1, bbox[1]+1, bbox[0]+bbox[2]-1, bbox[1]+bbox[3]-1]\n",
    "        if gend != 'u':\n",
    "            voc_content = [frame, gend]\n",
    "            if not (pict in voc_dict.keys()):\n",
    "                voc_dict[pict] = [voc_content]\n",
    "            else:\n",
    "                voc_dict[pict].append(voc_content)"
   ]
  },
  {
   "cell_type": "code",
   "execution_count": 9,
   "metadata": {
    "collapsed": true
   },
   "outputs": [],
   "source": [
    "def xml_objects(objs):\n",
    "    res = \"\"\n",
    "    for el in objs:\n",
    "        res += '  <object>\\n' + \\\n",
    "        '    <name>{}</name>\\n'.format(el[1]) + \\\n",
    "        '    <pose>Unspecified</pose>\\n' + \\\n",
    "        '    <truncated>0</truncated>\\n' + \\\n",
    "        '    <difficult>0</difficult>\\n' + \\\n",
    "        '    <bndbox>\\n' + \\\n",
    "        '      <xmin>{}</xmin>\\n'.format(el[0][0]) + \\\n",
    "        '      <ymin>{}</ymin>\\n'.format(el[0][1]) + \\\n",
    "        '      <xmax>{}</xmax>\\n'.format(el[0][2]) + \\\n",
    "        '      <ymax>{}</ymax>\\n'.format(el[0][3]) + \\\n",
    "        '    </bndbox>\\n' + \\\n",
    "        '  </object>\\n'\n",
    "    return res"
   ]
  },
  {
   "cell_type": "code",
   "execution_count": 10,
   "metadata": {
    "collapsed": true
   },
   "outputs": [],
   "source": [
    "def xml_content(file_name, voc_el):\n",
    "    xml_objs = xml_objects(voc_el)\n",
    "    if (xml_objs != \"\"):\n",
    "        return '<?xml version=\"1.0\" encoding=\"utf-8\"?>\\n' + \\\n",
    "                '<annotation>\\n' + \\\n",
    "                '  <folder>VOC0712</folder>\\n' + \\\n",
    "                '  <filename>{}</filename>\\n'.format(file_name) + \\\n",
    "                '  <source>\\n' + \\\n",
    "                '    <database>KAMAZ Database</database>\\n' + \\\n",
    "                '    <annotation>KAMAZ</annotation>\\n' + \\\n",
    "                '    <image>flickr</image>\\n' + \\\n",
    "                '    <flickrid>0</flickrid>\\n' + \\\n",
    "                '  </source>\\n' + \\\n",
    "                '  <owner>\\n' + \\\n",
    "                '    <flickrid>Unspecified</flickrid>\\n' + \\\n",
    "                '    <name>Unspecified</name>\\n' + \\\n",
    "                '  </owner>\\n' + \\\n",
    "                '  <size>\\n' + \\\n",
    "                '    <width>1920</width>\\n' + \\\n",
    "                '    <height>1080</height>\\n' + \\\n",
    "                '    <depth>3</depth>\\n' + \\\n",
    "                '  </size>\\n' + \\\n",
    "                '  <segmented>0</segmented>\\n' + xml_objs + '</annotation>'"
   ]
  },
  {
   "cell_type": "code",
   "execution_count": 11,
   "metadata": {
    "collapsed": true
   },
   "outputs": [],
   "source": [
    "def create_marking_xml(file_name, voc_el):\n",
    "    with open(os.path.join(VOC_ANNOTATIONS, file_name+ '.xml'), 'w') as output_file:\n",
    "        str_data = xml_content(file_name + '.jpg', voc_el)\n",
    "        output_file.write(str_data)"
   ]
  },
  {
   "cell_type": "code",
   "execution_count": 12,
   "metadata": {
    "collapsed": true
   },
   "outputs": [],
   "source": [
    "train_list_files = []\n",
    "val_list_files = []\n",
    "for k in voc_dict:\n",
    "    voc_el = voc_dict[k]\n",
    "    file_name = '{:0>6}'.format(idx_number)\n",
    "    shutil.copyfile(os.path.join(IMAGES_FOLDER, k), os.path.join(VOC_JPEGIMAGES, file_name + '.jpg'))\n",
    "    create_marking_xml(file_name, voc_el)\n",
    "    if 'train/' in k:\n",
    "        train_list_files.append(file_name)\n",
    "    if 'val/' in k:\n",
    "        val_list_files.append(file_name)\n",
    "    idx_number += 1"
   ]
  },
  {
   "cell_type": "code",
   "execution_count": 30,
   "metadata": {
    "collapsed": true
   },
   "outputs": [],
   "source": [
    "with open(os.path.join(VOC_IMAGESETS, 'train_wad_imagesets.txt'), 'w') as output_file:\n",
    "    for el in train_list_files:\n",
    "        output_file.write(el+'\\n')\n",
    "with open(os.path.join(VOC_IMAGESETS, 'val_wad_imagesets.txt'), 'w') as output_file:\n",
    "    for el in val_list_files:\n",
    "        output_file.write(el+'\\n')"
   ]
  },
  {
   "cell_type": "code",
   "execution_count": null,
   "metadata": {
    "collapsed": true
   },
   "outputs": [],
   "source": []
  }
 ],
 "metadata": {
  "kernelspec": {
   "display_name": "Python 3",
   "language": "python",
   "name": "python3"
  },
  "language_info": {
   "codemirror_mode": {
    "name": "ipython",
    "version": 3
   },
   "file_extension": ".py",
   "mimetype": "text/x-python",
   "name": "python",
   "nbconvert_exporter": "python",
   "pygments_lexer": "ipython3",
   "version": "3.6.0"
  }
 },
 "nbformat": 4,
 "nbformat_minor": 2
}
