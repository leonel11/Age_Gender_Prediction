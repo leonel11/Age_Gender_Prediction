{
 "cells": [
  {
   "cell_type": "code",
   "execution_count": 28,
   "metadata": {
    "collapsed": true
   },
   "outputs": [],
   "source": [
    "import os\n",
    "import scipy.io as scio\n",
    "import shutil\n",
    "from PIL import Image, ImageDraw"
   ]
  },
  {
   "cell_type": "code",
   "execution_count": 2,
   "metadata": {
    "collapsed": true
   },
   "outputs": [],
   "source": [
    "DATABASE_FOLDER = '../data/hatdb'\n",
    "IMAGES_FOLDER = os.path.join(DATABASE_FOLDER, 'images')\n",
    "ANNOTATION_FILE = os.path.join(DATABASE_FOLDER, 'anno.mat')"
   ]
  },
  {
   "cell_type": "code",
   "execution_count": 3,
   "metadata": {
    "collapsed": true
   },
   "outputs": [],
   "source": [
    "VOC_DATA = '../data/VOC0712'\n",
    "VOC_ANNOTATIONS = os.path.join(VOC_DATA, 'Annotations')\n",
    "VOC_IMAGESETS = os.path.join(os.path.join(VOC_DATA, 'ImageSets'), 'Main')\n",
    "VOC_JPEGIMAGES = os.path.join(VOC_DATA, 'JPEGImages')"
   ]
  },
  {
   "cell_type": "code",
   "execution_count": 36,
   "metadata": {
    "collapsed": true
   },
   "outputs": [],
   "source": [
    "idx_number = 1\n",
    "numb = idx_number"
   ]
  },
  {
   "cell_type": "code",
   "execution_count": 5,
   "metadata": {
    "collapsed": true
   },
   "outputs": [],
   "source": [
    "if not os.path.isdir(VOC_DATA):\n",
    "    os.makedirs(VOC_DATA)\n",
    "if not os.path.isdir(VOC_ANNOTATIONS):\n",
    "    os.makedirs(VOC_ANNOTATIONS)\n",
    "if not os.path.isdir(VOC_IMAGESETS):\n",
    "    os.makedirs(VOC_IMAGESETS)\n",
    "if not os.path.isdir(VOC_JPEGIMAGES):\n",
    "    os.makedirs(VOC_JPEGIMAGES)"
   ]
  },
  {
   "cell_type": "code",
   "execution_count": 6,
   "metadata": {
    "collapsed": false,
    "scrolled": true
   },
   "outputs": [
    {
     "data": {
      "text/plain": [
       "{'__globals__': [],\n",
       " '__header__': b'MATLAB 5.0 MAT-file, Platform: GLNXA64, Created on: Sat Apr 28 17:46:59 2012',\n",
       " '__version__': '1.0',\n",
       " 'anno': array([[(array([[array(['q0_r10.jpg'], dtype='<U10'),\n",
       "         array(['q0_r14.jpg'], dtype='<U10'),\n",
       "         array(['q0_r15.jpg'], dtype='<U10'), ...,\n",
       "         array(['q328_r46.jpg'], dtype='<U12'),\n",
       "         array(['q328_r53.jpg'], dtype='<U12'),\n",
       "         array(['q328_r5.jpg'], dtype='<U11')]], dtype=object), array([[  1,  28,  98, 298,   1],\n",
       "        [  1,  75, 453, 500,   2],\n",
       "        [241,  75, 479, 346,   2],\n",
       "        ...,\n",
       "        [  1,  15, 303, 348,   2],\n",
       "        [  1,  51, 351, 375,   2],\n",
       "        [ 13,  49, 337, 498,   1]], dtype=uint16), array([[1, 0, 1, ..., 1, 0, 0]], dtype=uint8), array([[ 1, -1, -1, ..., -1, -1,  1],\n",
       "        [-1,  1,  1, ...,  1,  1, -1],\n",
       "        [ 1, -1, -1, ..., -1, -1,  1],\n",
       "        ...,\n",
       "        [-1, -1, -1, ..., -1, -1, -1],\n",
       "        [-1, -1, -1, ..., -1, -1, -1],\n",
       "        [-1,  0,  0, ...,  0,  0,  0]], dtype=int16), array([[ 518, 4994, 2851, ..., 3468, 4142, 7991]], dtype=uint16), array([[ 249, 4168, 5021, ..., 6452,  652, 9170]], dtype=uint16), array([[4484, 7865, 3857, ..., 7133, 3598, 4457]], dtype=uint16), array([[array(['female'], dtype='<U6')],\n",
       "        [array(['frontalpose'], dtype='<U11')],\n",
       "        [array(['profilepose'], dtype='<U11')],\n",
       "        [array(['turnedback'], dtype='<U10')],\n",
       "        [array(['upperbody'], dtype='<U9')],\n",
       "        [array(['standing'], dtype='<U8')],\n",
       "        [array(['runwalk'], dtype='<U7')],\n",
       "        [array(['crouching'], dtype='<U9')],\n",
       "        [array(['sitting'], dtype='<U7')],\n",
       "        [array(['armsbent'], dtype='<U8')],\n",
       "        [array(['elderly'], dtype='<U7')],\n",
       "        [array(['middleaged'], dtype='<U10')],\n",
       "        [array(['young'], dtype='<U5')],\n",
       "        [array(['teen'], dtype='<U4')],\n",
       "        [array(['kid'], dtype='<U3')],\n",
       "        [array(['baby'], dtype='<U4')],\n",
       "        [array(['tanktop'], dtype='<U7')],\n",
       "        [array(['tshirt'], dtype='<U6')],\n",
       "        [array(['casualjacket'], dtype='<U12')],\n",
       "        [array(['mensuit'], dtype='<U7')],\n",
       "        [array(['longskirt'], dtype='<U9')],\n",
       "        [array(['shortskirt'], dtype='<U10')],\n",
       "        [array(['smallshorts'], dtype='<U11')],\n",
       "        [array(['lowcuttop'], dtype='<U9')],\n",
       "        [array(['swimsuit'], dtype='<U8')],\n",
       "        [array(['weddingdress'], dtype='<U12')],\n",
       "        [array(['bermudashorts'], dtype='<U13')]], dtype=object))]],\n",
       "       dtype=[('files', 'O'), ('objbbs', 'O'), ('objids', 'O'), ('y', 'O'), ('trainidx', 'O'), ('validx', 'O'), ('testidx', 'O'), ('classes', 'O')])}"
      ]
     },
     "execution_count": 6,
     "metadata": {},
     "output_type": "execute_result"
    }
   ],
   "source": [
    "annotation_file = scio.loadmat(ANNOTATION_FILE)\n",
    "annotation_file"
   ]
  },
  {
   "cell_type": "code",
   "execution_count": 7,
   "metadata": {
    "collapsed": true
   },
   "outputs": [],
   "source": [
    "# лист файлов картинок базы, каждый элемент которого - массив с 1 элементом\n",
    "img_files = annotation_file['anno']['files'][0][0][0].tolist()"
   ]
  },
  {
   "cell_type": "code",
   "execution_count": 8,
   "metadata": {
    "collapsed": true
   },
   "outputs": [],
   "source": [
    "# лист с bboxes для каждой картинки из базы, каждый элемент которого - лист (важны только первые 4 элемента листа)\n",
    "bboxes = annotation_file['anno']['objbbs'][0][0].tolist()"
   ]
  },
  {
   "cell_type": "code",
   "execution_count": 9,
   "metadata": {
    "collapsed": true
   },
   "outputs": [],
   "source": [
    "# лист меток пола\n",
    "# 1 - Ж, -1 - М, 0 - ?\n",
    "sexes = annotation_file['anno']['y'][0][0][0].tolist()"
   ]
  },
  {
   "cell_type": "code",
   "execution_count": 10,
   "metadata": {
    "collapsed": true
   },
   "outputs": [],
   "source": [
    "def get_gender(label):\n",
    "    if (label == 1):\n",
    "        return 'f'\n",
    "    if (label == -1):\n",
    "        return 'm'\n",
    "    if (label == 0):\n",
    "        return 'u'\n",
    "    return 'u'"
   ]
  },
  {
   "cell_type": "code",
   "execution_count": 11,
   "metadata": {
    "collapsed": true
   },
   "outputs": [],
   "source": [
    "voc_dict = dict()"
   ]
  },
  {
   "cell_type": "code",
   "execution_count": 12,
   "metadata": {
    "collapsed": true
   },
   "outputs": [],
   "source": [
    "for i in range(len(img_files)):\n",
    "    gend = get_gender(sexes[i])\n",
    "    if gend != 'u':\n",
    "        pict = img_files[i][0]\n",
    "        bbox = bboxes[i][:4]\n",
    "        bbox[0] += 1\n",
    "        bbox[1] += 1\n",
    "        bbox[2] -= 1\n",
    "        bbox[3] -= 1\n",
    "        voc_content = [bbox, gend]\n",
    "        if not (pict in voc_dict.keys()):\n",
    "            voc_dict[pict] = [voc_content]\n",
    "        else:\n",
    "            voc_dict[pict].append(voc_content)"
   ]
  },
  {
   "cell_type": "code",
   "execution_count": 13,
   "metadata": {
    "collapsed": true
   },
   "outputs": [],
   "source": [
    "def xml_objects(objs):\n",
    "    res = \"\"\n",
    "    for el in objs:\n",
    "        res += '  <object>\\n' + \\\n",
    "        '    <name>{}</name>\\n'.format(el[1]) + \\\n",
    "        '    <pose>Unspecified</pose>\\n' + \\\n",
    "        '    <truncated>0</truncated>\\n' + \\\n",
    "        '    <difficult>0</difficult>\\n' + \\\n",
    "        '    <bndbox>\\n' + \\\n",
    "        '      <xmin>{}</xmin>\\n'.format(el[0][0]) + \\\n",
    "        '      <ymin>{}</ymin>\\n'.format(el[0][1]) + \\\n",
    "        '      <xmax>{}</xmax>\\n'.format(el[0][2]) + \\\n",
    "        '      <ymax>{}</ymax>\\n'.format(el[0][3]) + \\\n",
    "        '    </bndbox>\\n' + \\\n",
    "        '  </object>\\n'\n",
    "    return res"
   ]
  },
  {
   "cell_type": "code",
   "execution_count": 14,
   "metadata": {
    "collapsed": true
   },
   "outputs": [],
   "source": [
    "def xml_content(file_name, voc_el):\n",
    "    xml_objs = xml_objects(voc_el)\n",
    "    if (xml_objs != \"\"):\n",
    "        return '<?xml version=\"1.0\" encoding=\"utf-8\"?>\\n' + \\\n",
    "                '<annotation>\\n' + \\\n",
    "                '  <folder>VOC0712</folder>\\n' + \\\n",
    "                '  <filename>{}</filename>\\n'.format(file_name) + \\\n",
    "                '  <source>\\n' + \\\n",
    "                '    <database>KAMAZ Database</database>\\n' + \\\n",
    "                '    <annotation>KAMAZ</annotation>\\n' + \\\n",
    "                '    <image>flickr</image>\\n' + \\\n",
    "                '    <flickrid>0</flickrid>\\n' + \\\n",
    "                '  </source>\\n' + \\\n",
    "                '  <owner>\\n' + \\\n",
    "                '    <flickrid>Unspecified</flickrid>\\n' + \\\n",
    "                '    <name>Unspecified</name>\\n' + \\\n",
    "                '  </owner>\\n' + \\\n",
    "                '  <size>\\n' + \\\n",
    "                '    <width>1920</width>\\n' + \\\n",
    "                '    <height>1080</height>\\n' + \\\n",
    "                '    <depth>3</depth>\\n' + \\\n",
    "                '  </size>\\n' + \\\n",
    "                '  <segmented>0</segmented>\\n' + xml_objs + '</annotation>'"
   ]
  },
  {
   "cell_type": "code",
   "execution_count": 15,
   "metadata": {
    "collapsed": true
   },
   "outputs": [],
   "source": [
    "def create_marking_xml(file_name, voc_el):\n",
    "    with open(os.path.join(VOC_ANNOTATIONS, file_name+ '.xml'), 'w') as output_file:\n",
    "        str_data = xml_content(file_name + '.jpg', voc_el)\n",
    "        output_file.write(str_data)"
   ]
  },
  {
   "cell_type": "code",
   "execution_count": 16,
   "metadata": {
    "collapsed": true
   },
   "outputs": [],
   "source": [
    "list_files = []\n",
    "for k in voc_dict:\n",
    "    voc_el = voc_dict[k]\n",
    "    file_name = '{:0>6}'.format(idx_number)\n",
    "    list_files.append(file_name)\n",
    "    shutil.copyfile(os.path.join(IMAGES_FOLDER, k), os.path.join(VOC_JPEGIMAGES, file_name + '.jpg'))\n",
    "    create_marking_xml(file_name, voc_el)\n",
    "    idx_number += 1"
   ]
  },
  {
   "cell_type": "code",
   "execution_count": 64,
   "metadata": {
    "collapsed": true
   },
   "outputs": [],
   "source": [
    "with open(os.path.join(VOC_IMAGESETS, 'hat_imagesets.txt'), 'w') as output_file:\n",
    "    for el in list_files:\n",
    "        output_file.write(el+'\\n')"
   ]
  },
  {
   "cell_type": "code",
   "execution_count": null,
   "metadata": {
    "collapsed": true
   },
   "outputs": [],
   "source": []
  }
 ],
 "metadata": {
  "kernelspec": {
   "display_name": "Python 3",
   "language": "python",
   "name": "python3"
  },
  "language_info": {
   "codemirror_mode": {
    "name": "ipython",
    "version": 3
   },
   "file_extension": ".py",
   "mimetype": "text/x-python",
   "name": "python",
   "nbconvert_exporter": "python",
   "pygments_lexer": "ipython3",
   "version": "3.6.0"
  }
 },
 "nbformat": 4,
 "nbformat_minor": 2
}
