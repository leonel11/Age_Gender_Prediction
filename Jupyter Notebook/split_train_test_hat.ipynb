{
 "cells": [
  {
   "cell_type": "code",
   "execution_count": 1,
   "metadata": {},
   "outputs": [],
   "source": [
    "import numpy as np\n",
    "import os\n",
    "import shutil"
   ]
  },
  {
   "cell_type": "code",
   "execution_count": 2,
   "metadata": {},
   "outputs": [],
   "source": [
    "DATA_FOLDER = '../data/hatdb/resized/M'\n",
    "RESULTS_FOLDER = '../data/hatdb/resized/ResultsM'"
   ]
  },
  {
   "cell_type": "code",
   "execution_count": 3,
   "metadata": {},
   "outputs": [],
   "source": [
    "os.mkdir(RESULTS_FOLDER)\n",
    "os.mkdir(os.path.join(RESULTS_FOLDER, 'train'))\n",
    "os.mkdir(os.path.join(RESULTS_FOLDER, 'test'))"
   ]
  },
  {
   "cell_type": "code",
   "execution_count": 4,
   "metadata": {},
   "outputs": [],
   "source": [
    "list_files = os.listdir(DATA_FOLDER)\n",
    "count_files = len(list_files)\n",
    "val_set = set()\n",
    "val_count = count_files // 4"
   ]
  },
  {
   "cell_type": "code",
   "execution_count": 5,
   "metadata": {},
   "outputs": [
    {
     "data": {
      "text/plain": [
       "1253"
      ]
     },
     "execution_count": 5,
     "metadata": {},
     "output_type": "execute_result"
    }
   ],
   "source": [
    "val_count"
   ]
  },
  {
   "cell_type": "code",
   "execution_count": 6,
   "metadata": {},
   "outputs": [],
   "source": [
    "i = 0;\n",
    "while (i < val_count):\n",
    "    idx_file = np.random.randint(0, count_files)\n",
    "    f = list_files[idx_file]\n",
    "    if f not in val_set:\n",
    "        val_set.add(f)\n",
    "        i += 1"
   ]
  },
  {
   "cell_type": "code",
   "execution_count": 7,
   "metadata": {},
   "outputs": [],
   "source": [
    "for f in list_files:\n",
    "    if f in val_set:\n",
    "        shutil.copyfile(os.path.join(DATA_FOLDER, f), os.path.join(os.path.join(RESULTS_FOLDER, 'test'), f))\n",
    "    else:\n",
    "        shutil.copyfile(os.path.join(DATA_FOLDER, f), os.path.join(os.path.join(RESULTS_FOLDER, 'train'), f))"
   ]
  },
  {
   "cell_type": "code",
   "execution_count": null,
   "metadata": {},
   "outputs": [],
   "source": []
  }
 ],
 "metadata": {
  "kernelspec": {
   "display_name": "Python 3",
   "language": "python",
   "name": "python3"
  },
  "language_info": {
   "codemirror_mode": {
    "name": "ipython",
    "version": 3
   },
   "file_extension": ".py",
   "mimetype": "text/x-python",
   "name": "python",
   "nbconvert_exporter": "python",
   "pygments_lexer": "ipython3",
   "version": "3.6.4"
  }
 },
 "nbformat": 4,
 "nbformat_minor": 2
}
